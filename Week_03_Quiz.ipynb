{
  "nbformat": 4,
  "nbformat_minor": 0,
  "metadata": {
    "colab": {
      "name": "Week_01_Quiz.ipynb",
      "version": "0.3.2",
      "provenance": [],
      "include_colab_link": true
    },
    "kernelspec": {
      "name": "python3",
      "display_name": "Python 3"
    }
  },
  "cells": [
    {
      "cell_type": "markdown",
      "metadata": {
        "id": "view-in-github",
        "colab_type": "text"
      },
      "source": [
        "<a href=\"https://colab.research.google.com/github/EmmaMS/Convolutional-Neural-Networks-in-TensorFlow/blob/master/Week_03_Quiz.ipynb\" target=\"_parent\"><img src=\"https://colab.research.google.com/assets/colab-badge.svg\" alt=\"Open In Colab\"/></a>"
      ]
    },
    {
      "cell_type": "markdown",
      "metadata": {
        "id": "4b4A0Bqfsgxq",
        "colab_type": "text"
      },
      "source": [
        "# Week 2 Quiz\n",
        "1. How do you use Image Augmentation in TensorFLow\n",
        "\n",
        "\n",
        "> Use Parameters to the ImageDataGenerator\n",
        "\n",
        "2. If my training data only has people facing left, but I want to classify people facing right, how would I avoid overfitting?\n",
        "\n",
        "\n",
        "> #Use the 'flip_vertical' parameters around the Y axis\n",
        "\n",
        "\n",
        "3.When training with augmentation, you noticed that the training is a little slower. Why?\n",
        "\n",
        "\n",
        "> Because the image processing takes cycles\n",
        "4. What does the fill_mode parameter do?\n",
        "\n",
        "\n",
        "> It attempts to recreate lost information after a transformation like a shear\n",
        "\n",
        "\n",
        "5.When using Image Augmentation with the ImageDataGenerator, what happens to your raw image data on-disk.\n",
        "\n",
        "\n",
        "> Nothing, all augmentation is done in memory\n",
        "\n",
        "6.How does Image Augmentation help solve overfitting?\n",
        "\n",
        "> It manipulates the training set to generate more scenarios for feature in the images\n",
        "\n",
        "\n",
        "7. When using Image Augmentation my training gets...\n",
        "\n",
        "\n",
        "> Slower\n",
        "\n",
        "\n",
        "8. Using Image Augmentation effectively simulates having a larger data set for training.\n",
        "\n",
        "\n",
        "> True\n"
      ]
    }
  ]
}