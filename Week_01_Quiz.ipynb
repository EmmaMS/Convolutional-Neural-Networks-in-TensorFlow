{
  "nbformat": 4,
  "nbformat_minor": 0,
  "metadata": {
    "colab": {
      "name": "Week_01_Quiz.ipynb",
      "version": "0.3.2",
      "provenance": [],
      "include_colab_link": true
    },
    "kernelspec": {
      "name": "python3",
      "display_name": "Python 3"
    }
  },
  "cells": [
    {
      "cell_type": "markdown",
      "metadata": {
        "id": "view-in-github",
        "colab_type": "text"
      },
      "source": [
        "<a href=\"https://colab.research.google.com/github/EmmaMS/Convolutional-Neural-Networks-in-TensorFlow/blob/master/Week_01_Quiz.ipynb\" target=\"_parent\"><img src=\"https://colab.research.google.com/assets/colab-badge.svg\" alt=\"Open In Colab\"/></a>"
      ]
    },
    {
      "cell_type": "markdown",
      "metadata": {
        "id": "4b4A0Bqfsgxq",
        "colab_type": "text"
      },
      "source": [
        "# Week 1 Quiz\n",
        "1. What does flow_from_directory give you on the ImageGenerator?\n",
        "\n",
        "\n",
        "> The ability to easily load images for training, the ability to pick the size of training images, the ability to automatically label images based on their directory name\n",
        "\n",
        "\n",
        "2.If my Image is sized 150x150, and I pass a 3x3 Convolution over it, what size is the resulting image?\n",
        "\n",
        "\n",
        "> 148x148\n",
        "\n",
        "\n",
        "3.If my data is sized 150x150, and I use Pooling of size 2x2, what size will the resulting image be?\n",
        "\n",
        "\n",
        "> 75x75\n",
        "\n",
        "4.If I want to view the history of my training, how can I access it?\n",
        "\n",
        "\n",
        "> Create a variable 'history' and assign it to the return of model.fit or model.fit_generator\n",
        "\n",
        "\n",
        "5.What’s the name of the API that allows you to inspect the impact of convolutions on the images?\n",
        "\n",
        "\n",
        "> The model.layers API\n",
        "\n",
        "\n",
        "6.When exploring the graphs, the loss levelled out at about .75 after 2 epochs, but the accuracy climbed close to 1.0 after 15 epochs. What's the significance of this?\n",
        "\n",
        "\n",
        "> There was no point training after after 2 epochs as we overfit the training data\n",
        "\n",
        "\n",
        "7,Why is the validation accuracy a better indicator of model performance than training accuracy?\n",
        "\n",
        "\n",
        "> The validation accuracy is based on images that the model hasn't been trained with, and thus a better indicatior of how the model will perform with new images\n",
        "\n",
        "\n",
        "8.Why is overfitting more likely to occur on smaller datasets?\n",
        "\n",
        "\n",
        "> Because there's less likelihood of all possible features being encountered in the training process\n"
      ]
    }
  ]
}