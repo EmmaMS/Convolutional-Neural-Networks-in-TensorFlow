{
  "nbformat": 4,
  "nbformat_minor": 0,
  "metadata": {
    "colab": {
      "name": "Week_01_Quiz.ipynb",
      "version": "0.3.2",
      "provenance": [],
      "include_colab_link": true
    },
    "kernelspec": {
      "name": "python3",
      "display_name": "Python 3"
    }
  },
  "cells": [
    {
      "cell_type": "markdown",
      "metadata": {
        "id": "view-in-github",
        "colab_type": "text"
      },
      "source": [
        "<a href=\"https://colab.research.google.com/github/EmmaMS/Convolutional-Neural-Networks-in-TensorFlow/blob/master/Week_04_Quiz.ipynb\" target=\"_parent\"><img src=\"https://colab.research.google.com/assets/colab-badge.svg\" alt=\"Open In Colab\"/></a>"
      ]
    },
    {
      "cell_type": "markdown",
      "metadata": {
        "id": "4b4A0Bqfsgxq",
        "colab_type": "text"
      },
      "source": [
        "# Week 4 Quiz\n",
        "1. The diagram for traditional programming had Rules and Data In, but what came out?\n",
        "> Answers\n",
        "\n",
        "2. Why does the DNN for Fashion MNIST have 10 output neurons?\n",
        "> The dataset has 10 classes\n",
        "\n",
        "3.What is a Convolution?\n",
        "> A technique to extract features from an image\n",
        "4.Applying Convolutions on top of a DNN will have what impact on training?\n",
        "> It depends on may factors. It might make your training faster or slower, and a poorly designed convolutional layer may even be less efficient than a plain DNN!\n",
        "\n",
        "5.What method on an ImageGenerator is used to normalize the image?\n",
        "> rescale\n",
        "\n",
        "6.When using Image Augmentation with the ImageDataGenerator, what happens to your raw image data on-disk.\n",
        "> Nothing\n",
        "\n",
        "\n",
        "7.Can you use Image augmentation with Transfer Learning?\n",
        "> Yes, it's pre-trained layers that are frozen. So you can augment your images as you train the bottom layers of the DNN with them\n",
        "\n",
        "8. When training for multiple classes what is the Class Mode for Image Augmentation?\n",
        "> class_mode='categorical'\n"
      ]
    }
  ]
}